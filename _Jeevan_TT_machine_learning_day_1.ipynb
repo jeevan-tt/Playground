{
  "nbformat": 4,
  "nbformat_minor": 0,
  "metadata": {
    "kernelspec": {
      "display_name": "Python 3",
      "language": "python",
      "name": "python3"
    },
    "language_info": {
      "codemirror_mode": {
        "name": "ipython",
        "version": 3
      },
      "file_extension": ".py",
      "mimetype": "text/x-python",
      "name": "python",
      "nbconvert_exporter": "python",
      "pygments_lexer": "ipython3",
      "version": "3.8.3"
    },
    "colab": {
      "name": "_Jeevan TT machine learning day 1",
      "provenance": [],
      "include_colab_link": true
    }
  },
  "cells": [
    {
      "cell_type": "markdown",
      "metadata": {
        "id": "view-in-github",
        "colab_type": "text"
      },
      "source": [
        "<a href=\"https://colab.research.google.com/github/jeevan-tt/Playground/blob/master/_Jeevan_TT_machine_learning_day_1.ipynb\" target=\"_parent\"><img src=\"https://colab.research.google.com/assets/colab-badge.svg\" alt=\"Open In Colab\"/></a>"
      ]
    },
    {
      "cell_type": "code",
      "metadata": {
        "id": "vBGjpvmT4zkX",
        "colab_type": "code",
        "colab": {},
        "outputId": "5b8092ce-252b-4eb5-f177-9a8c5ea2d867"
      },
      "source": [
        "#jeevan tt \n",
        "import random \n",
        "a = random.randint(1,10)\n",
        "b = random.randint(1,10)\n",
        "print(\"sum of two random variable is =\", a+b)\n",
        "print(\"difference of two random variable is =\", a-b)\n",
        "print(\"product of two random variable is =\", a*b)\n",
        "print(\"division of two random variable is =\", a/b)"
      ],
      "execution_count": null,
      "outputs": [
        {
          "output_type": "stream",
          "text": [
            "sum of two random variable is = 13\n",
            "difference of two random variable is = 5\n",
            "product of two random variable is = 36\n",
            "division of two random variable is = 2.25\n"
          ],
          "name": "stdout"
        }
      ]
    },
    {
      "cell_type": "code",
      "metadata": {
        "id": "qMl5xEC84zkr",
        "colab_type": "code",
        "colab": {},
        "outputId": "41af211a-f42f-4bf3-f979-4f1097d8e651"
      },
      "source": [
        "#jeevan tt\n",
        "import random \n",
        "def maths() :\n",
        "        a = random.randint(1,10)\n",
        "        b = random.randint(1,10)\n",
        "        print(\"sum of two random variable is =\", a+b)\n",
        "        print(\"difference of two random variable is =\", a-b)\n",
        "        print(\"product of two random variable is =\", a*b)\n",
        "        print(\"division of two random variable is =\", a/b)\n",
        "maths()   "
      ],
      "execution_count": null,
      "outputs": [
        {
          "output_type": "stream",
          "text": [
            "sum of two random variable is = 14\n",
            "difference of two random variable is = 4\n",
            "product of two random variable is = 45\n",
            "division of two random variable is = 1.8\n"
          ],
          "name": "stdout"
        }
      ]
    },
    {
      "cell_type": "code",
      "metadata": {
        "id": "wtWkCvlD4zk6",
        "colab_type": "code",
        "colab": {}
      },
      "source": [
        "\n"
      ],
      "execution_count": null,
      "outputs": []
    },
    {
      "cell_type": "code",
      "metadata": {
        "id": "DBLB3Xqo4zlF",
        "colab_type": "code",
        "colab": {}
      },
      "source": [
        ""
      ],
      "execution_count": null,
      "outputs": []
    },
    {
      "cell_type": "code",
      "metadata": {
        "id": "TdngZ6sT4zlO",
        "colab_type": "code",
        "colab": {}
      },
      "source": [
        ""
      ],
      "execution_count": null,
      "outputs": []
    },
    {
      "cell_type": "code",
      "metadata": {
        "id": "j9iqw-0P4zla",
        "colab_type": "code",
        "colab": {}
      },
      "source": [
        ""
      ],
      "execution_count": null,
      "outputs": []
    }
  ]
}