{
  "nbformat": 4,
  "nbformat_minor": 0,
  "metadata": {
    "kernelspec": {
      "display_name": "Python 3",
      "language": "python",
      "name": "python3"
    },
    "language_info": {
      "codemirror_mode": {
        "name": "ipython",
        "version": 3
      },
      "file_extension": ".py",
      "mimetype": "text/x-python",
      "name": "python",
      "nbconvert_exporter": "python",
      "pygments_lexer": "ipython3",
      "version": "3.8.3"
    },
    "colab": {
      "name": "Machine_learning_day_5 Jeevan_tt.ipynb",
      "provenance": [],
      "collapsed_sections": [],
      "include_colab_link": true
    }
  },
  "cells": [
    {
      "cell_type": "markdown",
      "metadata": {
        "id": "view-in-github",
        "colab_type": "text"
      },
      "source": [
        "<a href=\"https://colab.research.google.com/github/jeevan-tt/Playground/blob/master/Machine_learning_day_5_Jeevan_tt.ipynb\" target=\"_parent\"><img src=\"https://colab.research.google.com/assets/colab-badge.svg\" alt=\"Open In Colab\"/></a>"
      ]
    },
    {
      "cell_type": "code",
      "metadata": {
        "id": "ulPy3iUq7wpG",
        "colab_type": "code",
        "colab": {}
      },
      "source": [
        "import pandas"
      ],
      "execution_count": null,
      "outputs": []
    },
    {
      "cell_type": "code",
      "metadata": {
        "id": "2Rqd_xJg7wpX",
        "colab_type": "code",
        "colab": {},
        "outputId": "6b9abbc1-61ae-45f3-c5d8-2839c8f2c112"
      },
      "source": [
        "link = r'C:\\Users\\ELCOT\\Desktop\\Salary_Data.csv'\n",
        "dataset = pandas.read_csv(link)\n",
        "print(dataset)"
      ],
      "execution_count": null,
      "outputs": [
        {
          "output_type": "stream",
          "text": [
            "    YearsExperience  Salary\n",
            "0               1.1   39343\n",
            "1               1.3   46205\n",
            "2               1.5   37731\n",
            "3               2.0   43525\n",
            "4               2.2   39891\n",
            "5               2.9   56642\n",
            "6               3.0   60150\n",
            "7               3.2   54445\n",
            "8               3.2   64445\n",
            "9               3.7   57189\n",
            "10              3.9   63218\n",
            "11              4.0   55794\n",
            "12              4.0   56957\n",
            "13              4.1   57081\n",
            "14              4.5   61111\n",
            "15              4.9   67938\n",
            "16              5.1   66029\n",
            "17              5.3   83088\n",
            "18              5.9   81363\n",
            "19              6.0   93940\n",
            "20              6.8   91738\n",
            "21              7.1   98273\n",
            "22              7.9  101302\n",
            "23              8.2  113812\n",
            "24              8.7  109431\n",
            "25              9.0  105582\n",
            "26              9.5  116969\n",
            "27              9.6  112635\n",
            "28             10.3  122391\n",
            "29             10.5  121872\n"
          ],
          "name": "stdout"
        }
      ]
    },
    {
      "cell_type": "code",
      "metadata": {
        "id": "MycupFnY7wpo",
        "colab_type": "code",
        "colab": {},
        "outputId": "267f1b2b-29f1-4c2c-b4bf-39712a2a71d7"
      },
      "source": [
        "X = dataset.iloc[:,:1].values\n",
        "Y = dataset.iloc[:,-1].values\n",
        "print(X)\n",
        "print(Y)"
      ],
      "execution_count": null,
      "outputs": [
        {
          "output_type": "stream",
          "text": [
            "[[ 1.1]\n",
            " [ 1.3]\n",
            " [ 1.5]\n",
            " [ 2. ]\n",
            " [ 2.2]\n",
            " [ 2.9]\n",
            " [ 3. ]\n",
            " [ 3.2]\n",
            " [ 3.2]\n",
            " [ 3.7]\n",
            " [ 3.9]\n",
            " [ 4. ]\n",
            " [ 4. ]\n",
            " [ 4.1]\n",
            " [ 4.5]\n",
            " [ 4.9]\n",
            " [ 5.1]\n",
            " [ 5.3]\n",
            " [ 5.9]\n",
            " [ 6. ]\n",
            " [ 6.8]\n",
            " [ 7.1]\n",
            " [ 7.9]\n",
            " [ 8.2]\n",
            " [ 8.7]\n",
            " [ 9. ]\n",
            " [ 9.5]\n",
            " [ 9.6]\n",
            " [10.3]\n",
            " [10.5]]\n",
            "[ 39343  46205  37731  43525  39891  56642  60150  54445  64445  57189\n",
            "  63218  55794  56957  57081  61111  67938  66029  83088  81363  93940\n",
            "  91738  98273 101302 113812 109431 105582 116969 112635 122391 121872]\n"
          ],
          "name": "stdout"
        }
      ]
    },
    {
      "cell_type": "code",
      "metadata": {
        "id": "I92vCMtP7wp2",
        "colab_type": "code",
        "colab": {}
      },
      "source": [
        "from sklearn.model_selection import train_test_split\n",
        "X_train, X_test, Y_train, Y_test = train_test_split(X, Y, test_size = 0.2, random_state = 0)"
      ],
      "execution_count": null,
      "outputs": []
    },
    {
      "cell_type": "code",
      "metadata": {
        "id": "eDtH1VLB7wqA",
        "colab_type": "code",
        "colab": {},
        "outputId": "61828956-edfa-43a7-99fb-44d7b3ccbe62"
      },
      "source": [
        "print(Y_test)"
      ],
      "execution_count": null,
      "outputs": [
        {
          "output_type": "stream",
          "text": [
            "[ 37731 122391  57081  63218 116969 109431]\n"
          ],
          "name": "stdout"
        }
      ]
    },
    {
      "cell_type": "code",
      "metadata": {
        "id": "S3IUxmjm7wqO",
        "colab_type": "code",
        "colab": {},
        "outputId": "ccfd3d8d-f296-42bb-f176-4da397d972f0"
      },
      "source": [
        "from sklearn.linear_model import LinearRegression\n",
        "regressor =  LinearRegression()\n",
        "regressor.fit(X_train, Y_train)\n"
      ],
      "execution_count": null,
      "outputs": [
        {
          "output_type": "execute_result",
          "data": {
            "text/plain": [
              "LinearRegression()"
            ]
          },
          "metadata": {
            "tags": []
          },
          "execution_count": 33
        }
      ]
    },
    {
      "cell_type": "code",
      "metadata": {
        "id": "UA70aO7-7wqZ",
        "colab_type": "code",
        "colab": {}
      },
      "source": [
        "Y_predict = regressor.predict(X_test)"
      ],
      "execution_count": null,
      "outputs": []
    },
    {
      "cell_type": "code",
      "metadata": {
        "id": "Mf1b1Vcg7wqn",
        "colab_type": "code",
        "colab": {},
        "outputId": "ae812908-fd4f-4d85-d64f-130806ad6eec"
      },
      "source": [
        "print(Y_predict , Y_test)"
      ],
      "execution_count": null,
      "outputs": [
        {
          "output_type": "stream",
          "text": [
            "[ 40748.96184072 122699.62295594  64961.65717022  63099.14214487\n",
            " 115249.56285456 107799.50275317] [ 37731 122391  57081  63218 116969 109431]\n"
          ],
          "name": "stdout"
        }
      ]
    },
    {
      "cell_type": "code",
      "metadata": {
        "id": "5QGxxbRb7wqw",
        "colab_type": "code",
        "colab": {},
        "outputId": "c64d7cb0-4784-4cc9-c40e-028fc7c51d1a"
      },
      "source": [
        "accuracy = regressor.score(X, Y)\n",
        "print(\"The accuracy level for simple linear regressor\",accuracy)\n",
        "print(\"The accuracy level for simple linear regressor\",accuracy * 100)"
      ],
      "execution_count": null,
      "outputs": [
        {
          "output_type": "stream",
          "text": [
            "The accuracy level for simple linear regressor 0.9566628347576891\n",
            "The accuracy level for simple linear regressor 95.6662834757689\n"
          ],
          "name": "stdout"
        }
      ]
    },
    {
      "cell_type": "code",
      "metadata": {
        "id": "z90u-Lel7wq7",
        "colab_type": "code",
        "colab": {},
        "outputId": "4401685d-d881-48de-8c7f-5ee3a05aa316"
      },
      "source": [
        "import matplotlib.pyplot as plt\n",
        "plt.scatter(X_test, Y_test, color = 'red')\n",
        "plt.plot(X_test,Y_predict, color = 'blue')\n",
        "plt.title(\"Salary based on the year of experiance \")\n",
        "plt.xlabel(\"experiance t\")\n",
        "plt.ylabel(\"Salary\")\n",
        "plt.show()"
      ],
      "execution_count": null,
      "outputs": [
        {
          "output_type": "display_data",
          "data": {
            "image/png": "[encoded data removed]",
            "text/plain": [
              "<Figure size 432x288 with 1 Axes>"
            ]
          },
          "metadata": {
            "tags": [],
            "needs_background": "light"
          }
        }
      ]
    },
    {
      "cell_type": "code",
      "metadata": {
        "id": "WCLnC9Pq7wrL",
        "colab_type": "code",
        "colab": {},
        "outputId": "ce983cdc-1f93-4e53-d60e-06d0ead4f702"
      },
      "source": [
        "new_salary_pred = regressor.predict([[1]])\n",
        "print('The predicted salary for 1 year is ',new_salary_pred)"
      ],
      "execution_count": null,
      "outputs": [
        {
          "output_type": "stream",
          "text": [
            "The predicted salary for 10 year is  [36092.67427736]\n"
          ],
          "name": "stdout"
        }
      ]
    },
    {
      "cell_type": "code",
      "metadata": {
        "id": "iLsHTnCb7wrT",
        "colab_type": "code",
        "colab": {}
      },
      "source": [
        "new_salary_pred = regressor.predict([[2]])\n",
        "print('The predicted salary for 2 year is ',new_salary_pred)"
      ],
      "execution_count": null,
      "outputs": []
    },
    {
      "cell_type": "code",
      "metadata": {
        "id": "1aBfY85z7wre",
        "colab_type": "code",
        "colab": {},
        "outputId": "77f3aeb8-631c-49a9-eb0f-3ddbda62a390"
      },
      "source": [
        "new_salary_pred = regressor.predict([[5]])\n",
        "print('The predicted salary for 5 year is ',new_salary_pred)"
      ],
      "execution_count": null,
      "outputs": [
        {
          "output_type": "stream",
          "text": [
            "The predicted salary for 5 year is  [73342.97478427]\n"
          ],
          "name": "stdout"
        }
      ]
    },
    {
      "cell_type": "code",
      "metadata": {
        "id": "g92WYd3F7wrq",
        "colab_type": "code",
        "colab": {},
        "outputId": "57ed2018-4a9e-40db-e783-0e725dff71cb"
      },
      "source": [
        "new_salary_pred = regressor.predict([[10]])\n",
        "print('The predicted salary for 10 year is ',new_salary_pred)"
      ],
      "execution_count": null,
      "outputs": [
        {
          "output_type": "stream",
          "text": [
            "The predicted salary for 10 year is  [119905.85041792]\n"
          ],
          "name": "stdout"
        }
      ]
    }
  ]
}