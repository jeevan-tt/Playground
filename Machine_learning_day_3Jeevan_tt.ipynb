{
  "nbformat": 4,
  "nbformat_minor": 0,
  "metadata": {
    "kernelspec": {
      "display_name": "Python 3",
      "language": "python",
      "name": "python3"
    },
    "language_info": {
      "codemirror_mode": {
        "name": "ipython",
        "version": 3
      },
      "file_extension": ".py",
      "mimetype": "text/x-python",
      "name": "python",
      "nbconvert_exporter": "python",
      "pygments_lexer": "ipython3",
      "version": "3.8.3"
    },
    "colab": {
      "name": "Machine_learning_day_3Jeevan_tt.ipynb",
      "provenance": [],
      "collapsed_sections": [],
      "include_colab_link": true
    }
  },
  "cells": [
    {
      "cell_type": "markdown",
      "metadata": {
        "id": "view-in-github",
        "colab_type": "text"
      },
      "source": [
        "<a href=\"https://colab.research.google.com/github/jeevan-tt/Playground/blob/master/Machine_learning_day_3Jeevan_tt.ipynb\" target=\"_parent\"><img src=\"https://colab.research.google.com/assets/colab-badge.svg\" alt=\"Open In Colab\"/></a>"
      ]
    },
    {
      "cell_type": "code",
      "metadata": {
        "id": "XYG-ePO96Kg8",
        "colab_type": "code",
        "colab": {}
      },
      "source": [
        "import pandas"
      ],
      "execution_count": null,
      "outputs": []
    },
    {
      "cell_type": "code",
      "metadata": {
        "id": "mZmJw-3Q6KhV",
        "colab_type": "code",
        "colab": {},
        "outputId": "13bf7dc9-cb8a-4673-ce81-ba12e4dbaae5"
      },
      "source": [
        "link = r'C:\\Users\\ELCOT\\Desktop\\Salary_Data.csv'\n",
        "dataset = pandas.read_csv(link)\n",
        "print(dataset)"
      ],
      "execution_count": null,
      "outputs": [
        {
          "output_type": "stream",
          "text": [
            "    YearsExperience  Salary\n",
            "0               1.1   39343\n",
            "1               1.3   46205\n",
            "2               1.5   37731\n",
            "3               2.0   43525\n",
            "4               2.2   39891\n",
            "5               2.9   56642\n",
            "6               3.0   60150\n",
            "7               3.2   54445\n",
            "8               3.2   64445\n",
            "9               3.7   57189\n",
            "10              3.9   63218\n",
            "11              4.0   55794\n",
            "12              4.0   56957\n",
            "13              4.1   57081\n",
            "14              4.5   61111\n",
            "15              4.9   67938\n",
            "16              5.1   66029\n",
            "17              5.3   83088\n",
            "18              5.9   81363\n",
            "19              6.0   93940\n",
            "20              6.8   91738\n",
            "21              7.1   98273\n",
            "22              7.9  101302\n",
            "23              8.2  113812\n",
            "24              8.7  109431\n",
            "25              9.0  105582\n",
            "26              9.5  116969\n",
            "27              9.6  112635\n",
            "28             10.3  122391\n",
            "29             10.5  121872\n"
          ],
          "name": "stdout"
        }
      ]
    },
    {
      "cell_type": "code",
      "metadata": {
        "id": "aMW7nsG06Khk",
        "colab_type": "code",
        "colab": {},
        "outputId": "ea2be207-1aa2-4299-b7f6-45475b18bbaa"
      },
      "source": [
        "print(dataset.info())"
      ],
      "execution_count": null,
      "outputs": [
        {
          "output_type": "stream",
          "text": [
            "<class 'pandas.core.frame.DataFrame'>\n",
            "RangeIndex: 30 entries, 0 to 29\n",
            "Data columns (total 2 columns):\n",
            " #   Column           Non-Null Count  Dtype  \n",
            "---  ------           --------------  -----  \n",
            " 0   YearsExperience  30 non-null     float64\n",
            " 1   Salary           30 non-null     int64  \n",
            "dtypes: float64(1), int64(1)\n",
            "memory usage: 608.0 bytes\n",
            "None\n"
          ],
          "name": "stdout"
        }
      ]
    },
    {
      "cell_type": "code",
      "metadata": {
        "id": "iGV5O8IN6Khv",
        "colab_type": "code",
        "colab": {},
        "outputId": "7cce42d3-1c25-4a14-86e7-a665cbc9ade8"
      },
      "source": [
        "X = dataset.iloc[:,0:-1].values\n",
        "print(X)\n",
        "Y = dataset.iloc[:,1].values\n",
        "print(Y)\n"
      ],
      "execution_count": null,
      "outputs": [
        {
          "output_type": "stream",
          "text": [
            "[[ 1.1]\n",
            " [ 1.3]\n",
            " [ 1.5]\n",
            " [ 2. ]\n",
            " [ 2.2]\n",
            " [ 2.9]\n",
            " [ 3. ]\n",
            " [ 3.2]\n",
            " [ 3.2]\n",
            " [ 3.7]\n",
            " [ 3.9]\n",
            " [ 4. ]\n",
            " [ 4. ]\n",
            " [ 4.1]\n",
            " [ 4.5]\n",
            " [ 4.9]\n",
            " [ 5.1]\n",
            " [ 5.3]\n",
            " [ 5.9]\n",
            " [ 6. ]\n",
            " [ 6.8]\n",
            " [ 7.1]\n",
            " [ 7.9]\n",
            " [ 8.2]\n",
            " [ 8.7]\n",
            " [ 9. ]\n",
            " [ 9.5]\n",
            " [ 9.6]\n",
            " [10.3]\n",
            " [10.5]]\n",
            "[ 39343  46205  37731  43525  39891  56642  60150  54445  64445  57189\n",
            "  63218  55794  56957  57081  61111  67938  66029  83088  81363  93940\n",
            "  91738  98273 101302 113812 109431 105582 116969 112635 122391 121872]\n"
          ],
          "name": "stdout"
        }
      ]
    },
    {
      "cell_type": "code",
      "metadata": {
        "id": "i-KiWP1R6Kh8",
        "colab_type": "code",
        "colab": {}
      },
      "source": [
        "from sklearn.model_selection import train_test_split\n"
      ],
      "execution_count": null,
      "outputs": []
    },
    {
      "cell_type": "code",
      "metadata": {
        "id": "1S5qfUIJ6KiG",
        "colab_type": "code",
        "colab": {}
      },
      "source": [
        "X_train,X_test,Y_train,Y_test = train_test_split(X,Y, test_size=0.2,random_state=0)"
      ],
      "execution_count": null,
      "outputs": []
    },
    {
      "cell_type": "code",
      "metadata": {
        "id": "wl8HF_Xy6KiP",
        "colab_type": "code",
        "colab": {},
        "outputId": "465ee982-ab2a-4bfd-d0b6-7777c145adb8"
      },
      "source": [
        "print(Y_train)"
      ],
      "execution_count": null,
      "outputs": [
        {
          "output_type": "stream",
          "text": [
            "[112635  55794  83088 101302  56642  66029  64445  61111 113812  91738\n",
            "  46205 121872  60150  39891  81363  93940  57189  54445 105582  43525\n",
            "  39343  98273  67938  56957]\n"
          ],
          "name": "stdout"
        }
      ]
    },
    {
      "cell_type": "code",
      "metadata": {
        "id": "L2iqaxLa6Kif",
        "colab_type": "code",
        "colab": {},
        "outputId": "8295b19d-9d14-4a50-afbe-926e027a3763"
      },
      "source": [
        "print(X_train)"
      ],
      "execution_count": null,
      "outputs": [
        {
          "output_type": "stream",
          "text": [
            "[[ 9.6]\n",
            " [ 4. ]\n",
            " [ 5.3]\n",
            " [ 7.9]\n",
            " [ 2.9]\n",
            " [ 5.1]\n",
            " [ 3.2]\n",
            " [ 4.5]\n",
            " [ 8.2]\n",
            " [ 6.8]\n",
            " [ 1.3]\n",
            " [10.5]\n",
            " [ 3. ]\n",
            " [ 2.2]\n",
            " [ 5.9]\n",
            " [ 6. ]\n",
            " [ 3.7]\n",
            " [ 3.2]\n",
            " [ 9. ]\n",
            " [ 2. ]\n",
            " [ 1.1]\n",
            " [ 7.1]\n",
            " [ 4.9]\n",
            " [ 4. ]]\n"
          ],
          "name": "stdout"
        }
      ]
    },
    {
      "cell_type": "code",
      "metadata": {
        "id": "Z919HLzB6Kit",
        "colab_type": "code",
        "colab": {},
        "outputId": "68c414fa-c875-4680-e632-d71a60cfdb32"
      },
      "source": [
        "#prediction of salary based on experience\n",
        "from sklearn.linear_model import LinearRegression\n",
        "regressor = LinearRegression()\n",
        "regressor.fit(X_train, Y_train)\n"
      ],
      "execution_count": null,
      "outputs": [
        {
          "output_type": "execute_result",
          "data": {
            "text/plain": [
              "LinearRegression()"
            ]
          },
          "metadata": {
            "tags": []
          },
          "execution_count": 44
        }
      ]
    },
    {
      "cell_type": "code",
      "metadata": {
        "id": "Hz0wRQq86KjB",
        "colab_type": "code",
        "colab": {}
      },
      "source": [
        "y_pred = regressor.predict(X_test)"
      ],
      "execution_count": null,
      "outputs": []
    },
    {
      "cell_type": "code",
      "metadata": {
        "id": "4HlOsFYj6KjP",
        "colab_type": "code",
        "colab": {},
        "outputId": "7cae42ba-ba84-4149-d8f7-214c24b5baaf"
      },
      "source": [
        "import matplotlib.pyplot as plt\n",
        "plt.scatter(X_train, Y_train, color = 'red')\n",
        "plt.plot(X_train, regressor.predict(X_train), color='blue')\n",
        "plt.title('Salary vs Experience (Training set)')\n",
        "plt.xlabel('Years of Experience')\n",
        "plt.ylabel('Salary')\n",
        "plt.show()"
      ],
      "execution_count": null,
      "outputs": [
        {
          "output_type": "display_data",
          "data": {
            "image/png": "[encoded data removed]",
            "text/plain": [
              "<Figure size 432x288 with 1 Axes>"
            ]
          },
          "metadata": {
            "tags": [],
            "needs_background": "light"
          }
        }
      ]
    },
    {
      "cell_type": "code",
      "metadata": {
        "id": "9dN-Wye26Kje",
        "colab_type": "code",
        "colab": {},
        "outputId": "a74d7f5e-d335-43ed-8fa6-8149dde2f5a4"
      },
      "source": [
        "import matplotlib.pyplot as plt\n",
        "plt.scatter(X_test, Y_test, color = 'red')\n",
        "plt.plot(X_train, regressor.predict(X_train), color='blue')\n",
        "plt.title('Salary vs Experience (Test set)')\n",
        "plt.xlabel('Years of Experience')\n",
        "plt.ylabel('Salary')\n",
        "plt.show()"
      ],
      "execution_count": null,
      "outputs": [
        {
          "output_type": "display_data",
          "data": {
            "image/png": "[encoded data removed]",
            "text/plain": [
              "<Figure size 432x288 with 1 Axes>"
            ]
          },
          "metadata": {
            "tags": [],
            "needs_background": "light"
          }
        }
      ]
    },
    {
      "cell_type": "code",
      "metadata": {
        "id": "v6oqtdaM6Kjr",
        "colab_type": "code",
        "colab": {},
        "outputId": "1f50339a-dec8-446a-fe16-c5270e20d49e"
      },
      "source": [
        "import matplotlib.pyplot as plt\n",
        "dataset.plot(subplots = True, layout = (2,2), )\n",
        "plt.show()\n",
        "dataset.plot()\n",
        "plt.show()"
      ],
      "execution_count": null,
      "outputs": [
        {
          "output_type": "display_data",
          "data": {
            "image/png": "[encoded data removed]",
            "text/plain": [
              "<Figure size 432x288 with 4 Axes>"
            ]
          },
          "metadata": {
            "tags": [],
            "needs_background": "light"
          }
        },
        {
          "output_type": "display_data",
          "data": {
            "image/png": "[encoded data removed]",
            "text/plain": [
              "<Figure size 432x288 with 1 Axes>"
            ]
          },
          "metadata": {
            "tags": [],
            "needs_background": "light"
          }
        }
      ]
    },
    {
      "cell_type": "code",
      "metadata": {
        "id": "X7-eyDRN6Kj1",
        "colab_type": "code",
        "colab": {},
        "outputId": "2eac510b-9690-4cdc-d954-19ece0f0e12b"
      },
      "source": [
        "new_salary_pred = regressor.predict([[10]])\n",
        "print('The predicted salary for 10 year is ',new_salary_pred)"
      ],
      "execution_count": null,
      "outputs": [
        {
          "output_type": "stream",
          "text": [
            "The predicted salary for 10 year is  [119905.85041792]\n"
          ],
          "name": "stdout"
        }
      ]
    },
    {
      "cell_type": "code",
      "metadata": {
        "id": "7k6FWBzA6KkB",
        "colab_type": "code",
        "colab": {},
        "outputId": "335dbab5-3bb8-4765-90a7-d25d0d3ff252"
      },
      "source": [
        "new_salary_pred = regressor.predict([[1]])\n",
        "print('The predicted salary for 1 year is ',new_salary_pred)"
      ],
      "execution_count": null,
      "outputs": [
        {
          "output_type": "stream",
          "text": [
            "The predicted salary for 1 year is  [36092.67427736]\n"
          ],
          "name": "stdout"
        }
      ]
    },
    {
      "cell_type": "code",
      "metadata": {
        "id": "TkPqISyK6KkL",
        "colab_type": "code",
        "colab": {},
        "outputId": "5cf7379f-869d-4da6-98e3-ca07649cabcb"
      },
      "source": [
        "new_salary_pred = regressor.predict([[2]])\n",
        "print('The predicted salary for 2 year is   ',new_salary_pred)"
      ],
      "execution_count": null,
      "outputs": [
        {
          "output_type": "stream",
          "text": [
            "The predicted salary for 2 year is    [45405.24940409]\n"
          ],
          "name": "stdout"
        }
      ]
    },
    {
      "cell_type": "code",
      "metadata": {
        "id": "_we5AtTB6KkX",
        "colab_type": "code",
        "colab": {},
        "outputId": "283cb297-9595-4819-b5ea-080d3f1a8b37"
      },
      "source": [
        "new_salary_pred = regressor.predict([[3]])\n",
        "print('The predicted salary for 3 year is  ',new_salary_pred)"
      ],
      "execution_count": null,
      "outputs": [
        {
          "output_type": "stream",
          "text": [
            "The predicted salary for 3 year is   [54717.82453082]\n"
          ],
          "name": "stdout"
        }
      ]
    },
    {
      "cell_type": "code",
      "metadata": {
        "id": "xIppaKXC6Kki",
        "colab_type": "code",
        "colab": {},
        "outputId": "b1925b7c-3735-407c-985e-89628e9a6bc6"
      },
      "source": [
        "new_salary_pred = regressor.predict([[33]])\n",
        "print('The predicted salary  for 33 year is  ',new_salary_pred)"
      ],
      "execution_count": null,
      "outputs": [
        {
          "output_type": "stream",
          "text": [
            "The predicted salary  for 33 year is   [334095.07833269]\n"
          ],
          "name": "stdout"
        }
      ]
    },
    {
      "cell_type": "code",
      "metadata": {
        "id": "wwf8afCD6Kkw",
        "colab_type": "code",
        "colab": {},
        "outputId": "5093ae1c-00d0-4d7d-adc6-b46448bd1fa0"
      },
      "source": [
        "new_salary_pred = regressor.predict([[100]])\n",
        "print('The predicted salary for 100 year is  ',new_salary_pred)"
      ],
      "execution_count": null,
      "outputs": [
        {
          "output_type": "stream",
          "text": [
            "The predicted salary for 100 year is   [958037.61182355]\n"
          ],
          "name": "stdout"
        }
      ]
    },
    {
      "cell_type": "code",
      "metadata": {
        "id": "FSU7cFhX6Kk6",
        "colab_type": "code",
        "colab": {},
        "outputId": "371f8f00-f0cc-41d2-81ed-a447b5cff72e"
      },
      "source": [
        "new_salary_pred = regressor.predict([[4]])\n",
        "print('The predicted salary for 4 year is  ',new_salary_pred)"
      ],
      "execution_count": null,
      "outputs": [
        {
          "output_type": "stream",
          "text": [
            "The predicted salary for 4 year is   [64030.39965754]\n"
          ],
          "name": "stdout"
        }
      ]
    }
  ]
}