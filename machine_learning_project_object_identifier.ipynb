{
  "nbformat": 4,
  "nbformat_minor": 0,
  "metadata": {
    "colab": {
      "name": "machine learning project  object identifier.ipynb",
      "provenance": [],
      "collapsed_sections": [],
      "authorship_tag": "ABX9TyPNPXwaNZyXNZuNGzpkA4ic",
      "include_colab_link": true
    },
    "kernelspec": {
      "name": "python3",
      "display_name": "Python 3"
    }
  },
  "cells": [
    {
      "cell_type": "markdown",
      "metadata": {
        "id": "view-in-github",
        "colab_type": "text"
      },
      "source": [
        "<a href=\"https://colab.research.google.com/github/jeevan-tt/Playground/blob/master/machine_learning_project_object_identifier.ipynb\" target=\"_parent\"><img src=\"https://colab.research.google.com/assets/colab-badge.svg\" alt=\"Open In Colab\"/></a>"
      ]
    },
    {
      "cell_type": "code",
      "metadata": {
        "id": "eK5fvrPZoWfq",
        "colab_type": "code",
        "colab": {}
      },
      "source": [
        "import numpy as np\n",
        "import pandas as pd\n",
        "import tensorflow as tf"
      ],
      "execution_count": null,
      "outputs": []
    },
    {
      "cell_type": "code",
      "metadata": {
        "id": "H3HdKtEIoYlf",
        "colab_type": "code",
        "colab": {}
      },
      "source": [
        "import  os"
      ],
      "execution_count": null,
      "outputs": []
    },
    {
      "cell_type": "code",
      "metadata": {
        "id": "OvZmnsuOodkb",
        "colab_type": "code",
        "colab": {
          "base_uri": "https://localhost:8080/",
          "height": 118
        },
        "outputId": "2e43ebb3-238e-42c3-a842-c8033f2889a1"
      },
      "source": [
        "#mounting\n",
        "from google.colab import drive\n",
        "drive.mount(\"/content/drive\")"
      ],
      "execution_count": null,
      "outputs": [
        {
          "output_type": "stream",
          "text": [
            "Go to this URL in a browser: https://accounts.google.com/o/oauth2/auth?client_id=947318989803-6bn6qk8qdgf4n4g3pfee6491hc0brc4i.apps.googleusercontent.com&redirect_uri=urn%3aietf%3awg%3aoauth%3a2.0%3aoob&scope=email%20https%3a%2f%2fwww.googleapis.com%2fauth%2fdocs.test%20https%3a%2f%2fwww.googleapis.com%2fauth%2fdrive%20https%3a%2f%2fwww.googleapis.com%2fauth%2fdrive.photos.readonly%20https%3a%2f%2fwww.googleapis.com%2fauth%2fpeopleapi.readonly&response_type=code\n",
            "\n",
            "Enter your authorization code:\n",
            "··········\n",
            "Mounted at /content/drive\n"
          ],
          "name": "stdout"
        }
      ]
    },
    {
      "cell_type": "code",
      "metadata": {
        "id": "57OiR-dzoecF",
        "colab_type": "code",
        "colab": {
          "base_uri": "https://localhost:8080/",
          "height": 51
        },
        "outputId": "b14432b3-091a-4e20-b119-09e14b38e28d"
      },
      "source": [
        "os.getcwd()\n"
      ],
      "execution_count": null,
      "outputs": [
        {
          "output_type": "execute_result",
          "data": {
            "application/vnd.google.colaboratory.intrinsic+json": {
              "type": "string"
            },
            "text/plain": [
              "'/content/drive/.shortcut-targets-by-id/1db-CfPbIHw1MnDaS8EWnAbnNdlAV-d7T/dataset'"
            ]
          },
          "metadata": {
            "tags": []
          },
          "execution_count": 10
        }
      ]
    },
    {
      "cell_type": "code",
      "metadata": {
        "id": "N_cg85RXowfl",
        "colab_type": "code",
        "colab": {
          "base_uri": "https://localhost:8080/",
          "height": 33
        },
        "outputId": "3f86369b-922e-47df-c517-67419b5d997f"
      },
      "source": [
        "os.chdir('/content/drive/My Drive/workspace/dataset')\n",
        "!ls\n"
      ],
      "execution_count": null,
      "outputs": [
        {
          "output_type": "stream",
          "text": [
            "model  single_prediction  test_set  training_set\n"
          ],
          "name": "stdout"
        }
      ]
    },
    {
      "cell_type": "code",
      "metadata": {
        "id": "YU3VuZMmo5ji",
        "colab_type": "code",
        "colab": {}
      },
      "source": [
        "from tensorflow.keras.preprocessing.image import ImageDataGenerator"
      ],
      "execution_count": null,
      "outputs": []
    },
    {
      "cell_type": "code",
      "metadata": {
        "id": "NIFRENMaQI1J",
        "colab_type": "code",
        "colab": {
          "base_uri": "https://localhost:8080/",
          "height": 33
        },
        "outputId": "694b7845-60c5-41b9-af61-f1bc62eeaabb"
      },
      "source": [
        "\n",
        "train_datagen = ImageDataGenerator(rescale=1.0/255, shear_range= 0.2, zoom_range=0.2,horizontal_flip= True)\n",
        "training_set = train_datagen.flow_from_directory('/content/drive/My Drive/workspace/dataset/training_set', target_size=(64,64),\n",
        "                                                 batch_size=32,\n",
        "                                                 class_mode='binary')"
      ],
      "execution_count": null,
      "outputs": [
        {
          "output_type": "stream",
          "text": [
            "Found 8000 images belonging to 2 classes.\n"
          ],
          "name": "stdout"
        }
      ]
    },
    {
      "cell_type": "code",
      "metadata": {
        "id": "XKF39SPuQEA2",
        "colab_type": "code",
        "colab": {
          "base_uri": "https://localhost:8080/",
          "height": 33
        },
        "outputId": "3480eef1-beba-4971-9cde-ebc3e4f8f1e5"
      },
      "source": [
        "test_datagen = ImageDataGenerator(rescale= 1.0/255)\n",
        "test_set = test_datagen.flow_from_directory(\n",
        "              '/content/drive/My Drive/workspace/dataset/test_set',\n",
        "                target_size = (64,64),\n",
        "                batch_size = 32,\n",
        "                class_mode = 'binary')"
      ],
      "execution_count": null,
      "outputs": [
        {
          "output_type": "stream",
          "text": [
            "Found 2000 images belonging to 2 classes.\n"
          ],
          "name": "stdout"
        }
      ]
    },
    {
      "cell_type": "code",
      "metadata": {
        "id": "Al6oklIGI8eg",
        "colab_type": "code",
        "colab": {}
      },
      "source": [
        "cnn = tf.keras.models.Sequential()"
      ],
      "execution_count": null,
      "outputs": []
    },
    {
      "cell_type": "code",
      "metadata": {
        "id": "zJdlfQv_JFCC",
        "colab_type": "code",
        "colab": {}
      },
      "source": [
        "cnn.add(tf.keras.layers.Conv2D(filters = 32, kernel_size = 3, activation = 'relu',input_shape = [64,64,3]))"
      ],
      "execution_count": null,
      "outputs": []
    },
    {
      "cell_type": "code",
      "metadata": {
        "id": "PK7QbeVOJ2ch",
        "colab_type": "code",
        "colab": {}
      },
      "source": [
        "cnn.add(tf.keras.layers.MaxPool2D(pool_size = 2, strides=2))"
      ],
      "execution_count": null,
      "outputs": []
    },
    {
      "cell_type": "code",
      "metadata": {
        "id": "fq5ojfKrLXFc",
        "colab_type": "code",
        "colab": {}
      },
      "source": [
        "cnn.add(tf.keras.layers.Conv2D(filters = 32, kernel_size = 3, activation = 'relu',input_shape = [64,64,3]))\n",
        "cnn.add(tf.keras.layers.MaxPool2D(pool_size = 2, strides=2))"
      ],
      "execution_count": null,
      "outputs": []
    },
    {
      "cell_type": "code",
      "metadata": {
        "id": "x37M2UmlL6Mj",
        "colab_type": "code",
        "colab": {}
      },
      "source": [
        "cnn.add(tf.keras.layers.Flatten())"
      ],
      "execution_count": null,
      "outputs": []
    },
    {
      "cell_type": "code",
      "metadata": {
        "id": "Aqe00nD-MhV8",
        "colab_type": "code",
        "colab": {}
      },
      "source": [
        "cnn.add(tf.keras.layers.Dense(units=128,activation='relu'))"
      ],
      "execution_count": null,
      "outputs": []
    },
    {
      "cell_type": "code",
      "metadata": {
        "id": "bdsq-5qSNMKF",
        "colab_type": "code",
        "colab": {}
      },
      "source": [
        "cnn.add(tf.keras.layers.Dense(units=1,activation='sigmoid'))"
      ],
      "execution_count": null,
      "outputs": []
    },
    {
      "cell_type": "code",
      "metadata": {
        "id": "Bjgh15CJNabJ",
        "colab_type": "code",
        "colab": {}
      },
      "source": [
        "cnn.compile(optimizer='adam',loss='binary_crossentropy',metrics = ['accuracy'])"
      ],
      "execution_count": null,
      "outputs": []
    },
    {
      "cell_type": "code",
      "metadata": {
        "id": "Jv6CaDLwOt67",
        "colab_type": "code",
        "colab": {
          "base_uri": "https://localhost:8080/",
          "height": 866
        },
        "outputId": "ec0d75f5-a86e-4395-86eb-576d0fd578f5"
      },
      "source": [
        "cnn.fit(x=training_set,validation_data=test_set,epochs=25)"
      ],
      "execution_count": null,
      "outputs": [
        {
          "output_type": "stream",
          "text": [
            "Epoch 1/25\n",
            "250/250 [==============================] - 1912s 8s/step - loss: 0.6698 - accuracy: 0.5811 - val_loss: 0.6117 - val_accuracy: 0.6600\n",
            "Epoch 2/25\n",
            "250/250 [==============================] - 84s 335ms/step - loss: 0.6084 - accuracy: 0.6709 - val_loss: 0.5612 - val_accuracy: 0.7080\n",
            "Epoch 3/25\n",
            "250/250 [==============================] - 81s 326ms/step - loss: 0.5680 - accuracy: 0.7030 - val_loss: 0.5866 - val_accuracy: 0.7035\n",
            "Epoch 4/25\n",
            "250/250 [==============================] - 81s 325ms/step - loss: 0.5391 - accuracy: 0.7262 - val_loss: 0.5386 - val_accuracy: 0.7470\n",
            "Epoch 5/25\n",
            "250/250 [==============================] - 83s 330ms/step - loss: 0.5107 - accuracy: 0.7419 - val_loss: 0.5076 - val_accuracy: 0.7655\n",
            "Epoch 6/25\n",
            "250/250 [==============================] - 83s 333ms/step - loss: 0.4889 - accuracy: 0.7596 - val_loss: 0.4812 - val_accuracy: 0.7780\n",
            "Epoch 7/25\n",
            "250/250 [==============================] - 83s 333ms/step - loss: 0.4656 - accuracy: 0.7757 - val_loss: 0.4707 - val_accuracy: 0.7740\n",
            "Epoch 8/25\n",
            "250/250 [==============================] - 82s 329ms/step - loss: 0.4577 - accuracy: 0.7821 - val_loss: 0.5188 - val_accuracy: 0.7580\n",
            "Epoch 9/25\n",
            "250/250 [==============================] - 83s 333ms/step - loss: 0.4470 - accuracy: 0.7875 - val_loss: 0.4702 - val_accuracy: 0.7775\n",
            "Epoch 10/25\n",
            "250/250 [==============================] - 83s 331ms/step - loss: 0.4323 - accuracy: 0.7956 - val_loss: 0.4526 - val_accuracy: 0.7945\n",
            "Epoch 11/25\n",
            "250/250 [==============================] - 84s 336ms/step - loss: 0.4082 - accuracy: 0.8140 - val_loss: 0.4480 - val_accuracy: 0.7985\n",
            "Epoch 12/25\n",
            "250/250 [==============================] - 83s 334ms/step - loss: 0.3902 - accuracy: 0.8220 - val_loss: 0.4473 - val_accuracy: 0.7990\n",
            "Epoch 13/25\n",
            "250/250 [==============================] - 92s 367ms/step - loss: 0.3850 - accuracy: 0.8259 - val_loss: 0.4662 - val_accuracy: 0.7975\n",
            "Epoch 14/25\n",
            "250/250 [==============================] - 88s 352ms/step - loss: 0.3655 - accuracy: 0.8390 - val_loss: 0.4416 - val_accuracy: 0.8145\n",
            "Epoch 15/25\n",
            "250/250 [==============================] - 85s 341ms/step - loss: 0.3596 - accuracy: 0.8420 - val_loss: 0.4924 - val_accuracy: 0.7880\n",
            "Epoch 16/25\n",
            "250/250 [==============================] - 85s 338ms/step - loss: 0.3425 - accuracy: 0.8434 - val_loss: 0.4652 - val_accuracy: 0.8020\n",
            "Epoch 17/25\n",
            "250/250 [==============================] - 86s 343ms/step - loss: 0.3247 - accuracy: 0.8566 - val_loss: 0.4509 - val_accuracy: 0.8080\n",
            "Epoch 18/25\n",
            "250/250 [==============================] - 84s 337ms/step - loss: 0.3198 - accuracy: 0.8637 - val_loss: 0.4659 - val_accuracy: 0.7890\n",
            "Epoch 19/25\n",
            "250/250 [==============================] - 83s 334ms/step - loss: 0.2966 - accuracy: 0.8749 - val_loss: 0.4751 - val_accuracy: 0.8060\n",
            "Epoch 20/25\n",
            "250/250 [==============================] - 85s 339ms/step - loss: 0.2826 - accuracy: 0.8792 - val_loss: 0.4465 - val_accuracy: 0.8155\n",
            "Epoch 21/25\n",
            "250/250 [==============================] - 83s 334ms/step - loss: 0.2630 - accuracy: 0.8895 - val_loss: 0.4639 - val_accuracy: 0.8115\n",
            "Epoch 22/25\n",
            "250/250 [==============================] - 84s 337ms/step - loss: 0.2633 - accuracy: 0.8894 - val_loss: 0.4977 - val_accuracy: 0.8030\n",
            "Epoch 23/25\n",
            "250/250 [==============================] - 83s 332ms/step - loss: 0.2342 - accuracy: 0.9038 - val_loss: 0.4781 - val_accuracy: 0.8070\n",
            "Epoch 24/25\n",
            "250/250 [==============================] - 83s 334ms/step - loss: 0.2272 - accuracy: 0.9054 - val_loss: 0.4841 - val_accuracy: 0.8210\n",
            "Epoch 25/25\n",
            "250/250 [==============================] - 84s 336ms/step - loss: 0.2171 - accuracy: 0.9131 - val_loss: 0.4831 - val_accuracy: 0.8160\n"
          ],
          "name": "stdout"
        },
        {
          "output_type": "execute_result",
          "data": {
            "text/plain": [
              "<tensorflow.python.keras.callbacks.History at 0x7ffa951404e0>"
            ]
          },
          "metadata": {
            "tags": []
          },
          "execution_count": 26
        }
      ]
    },
    {
      "cell_type": "code",
      "metadata": {
        "id": "R6n8pjCFPQm3",
        "colab_type": "code",
        "colab": {}
      },
      "source": [
        "from tensorflow.keras.preprocessing import image"
      ],
      "execution_count": null,
      "outputs": []
    },
    {
      "cell_type": "code",
      "metadata": {
        "id": "e5E73AHgbFnk",
        "colab_type": "code",
        "colab": {
          "base_uri": "https://localhost:8080/",
          "height": 33
        },
        "outputId": "44d22cf9-0564-409c-ed96-8775c62246a3"
      },
      "source": [
        "test_image= image.load_img('/content/drive/My Drive/workspace/dataset/single_prediction/cat_or_dog_7.jpg',target_size=(64,64))\n",
        "test_image= image.img_to_array(test_image)\n",
        "test_image=np.expand_dims(test_image,axis=0)\n",
        "result=cnn.predict(test_image)\n",
        "training_set.class_indices\n",
        "if result[0][0]==1:\n",
        "    prediction='dog'\n",
        "else:\n",
        "    prediction='cat'\n",
        "print(\"The animal in an image is :\",prediction)"
      ],
      "execution_count": null,
      "outputs": [
        {
          "output_type": "stream",
          "text": [
            "The animal in an image is : dog\n"
          ],
          "name": "stdout"
        }
      ]
    },
    {
      "cell_type": "code",
      "metadata": {
        "id": "No6yWei6uULO",
        "colab_type": "code",
        "colab": {
          "base_uri": "https://localhost:8080/",
          "height": 33
        },
        "outputId": "29e1dad2-fb85-4efc-c0c1-18f5576c9e56"
      },
      "source": [
        "test_image= image.load_img('/content/drive/My Drive/workspace/dataset/single_prediction/cat_or_dog_2.jpg',target_size=(64,64))\n",
        "test_image= image.img_to_array(test_image)\n",
        "test_image=np.expand_dims(test_image,axis=0)\n",
        "result=cnn.predict(test_image)\n",
        "training_set.class_indices\n",
        "if result[0][0]==1:\n",
        "    prediction='dog'\n",
        "else:\n",
        "    prediction='cat'\n",
        "print(\"The animal in an image is :\",prediction)"
      ],
      "execution_count": null,
      "outputs": [
        {
          "output_type": "stream",
          "text": [
            "The animal in an image is : dog\n"
          ],
          "name": "stdout"
        }
      ]
    }
  ]
}